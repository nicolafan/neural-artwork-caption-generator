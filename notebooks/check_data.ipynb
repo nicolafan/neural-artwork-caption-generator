{
 "cells": [
  {
   "cell_type": "code",
   "execution_count": 1,
   "metadata": {},
   "outputs": [
    {
     "name": "stderr",
     "output_type": "stream",
     "text": [
      "/home/nico/Thesis/neural-artwork-caption-generator/.venv/lib/python3.10/site-packages/tqdm/auto.py:21: TqdmWarning: IProgress not found. Please update jupyter and ipywidgets. See https://ipywidgets.readthedocs.io/en/stable/user_install.html\n",
      "  from .autonotebook import tqdm as notebook_tqdm\n"
     ]
    }
   ],
   "source": [
    "from datasets import load_from_disk\n",
    "from pathlib import Path\n",
    "from functools import partial\n",
    "import os"
   ]
  },
  {
   "cell_type": "code",
   "execution_count": 2,
   "metadata": {},
   "outputs": [],
   "source": [
    "PROCESSED_DATA_DIR = Path.cwd().parent / \"data\" / \"processed\""
   ]
  },
  {
   "cell_type": "code",
   "execution_count": 3,
   "metadata": {},
   "outputs": [],
   "source": [
    "dataset = load_from_disk(PROCESSED_DATA_DIR / \"captioning_dataset_augmented\")"
   ]
  },
  {
   "cell_type": "code",
   "execution_count": 4,
   "metadata": {},
   "outputs": [
    {
     "data": {
      "text/plain": [
       "{'image': <PIL.JpegImagePlugin.JpegImageFile image mode=RGB size=220x275>,\n",
       " 'clip_score': 0.3598970293496636,\n",
       " 'file_name': 'eric-fischl_birthday-boy.jpg',\n",
       " 'captions': ['The artwork depicts a naked boy and woman, reclining on the bed of a room with red sheets, with a cityscape in the background window.',\n",
       "  'The artwork depicts a naked boy and woman lying on the bed of a room with red sheets, with an urban landscape in the background window.',\n",
       "  'The artwork depicts a naked boy and a naked woman who lean on the bed of a room with red leaves, with a cityscape in the back window.']}"
      ]
     },
     "execution_count": 4,
     "metadata": {},
     "output_type": "execute_result"
    }
   ],
   "source": [
    "dataset[\"train\"][4]"
   ]
  },
  {
   "cell_type": "code",
   "execution_count": 4,
   "metadata": {},
   "outputs": [
    {
     "name": "stderr",
     "output_type": "stream",
     "text": [
      "Downloading (…)lve/main/config.json: 100%|██████████| 1.33k/1.33k [00:00<00:00, 7.95MB/s]\n",
      "Downloading pytorch_model.bin: 100%|██████████| 298M/298M [00:06<00:00, 47.5MB/s] \n",
      "Downloading (…)neration_config.json: 100%|██████████| 293/293 [00:00<00:00, 914kB/s]\n",
      "Downloading (…)lve/main/config.json: 100%|██████████| 1.38k/1.38k [00:00<00:00, 3.73MB/s]\n",
      "Downloading pytorch_model.bin: 100%|██████████| 298M/298M [00:06<00:00, 47.9MB/s] \n",
      "Downloading (…)neration_config.json: 100%|██████████| 293/293 [00:00<00:00, 812kB/s]\n",
      "Downloading (…)okenizer_config.json: 100%|██████████| 42.0/42.0 [00:00<00:00, 168kB/s]\n",
      "Downloading (…)olve/main/source.spm: 100%|██████████| 768k/768k [00:00<00:00, 1.76MB/s]\n",
      "Downloading (…)olve/main/target.spm: 100%|██████████| 797k/797k [00:00<00:00, 1.79MB/s]\n",
      "Downloading (…)olve/main/vocab.json: 100%|██████████| 1.27M/1.27M [00:00<00:00, 2.30MB/s]\n",
      "Downloading (…)okenizer_config.json: 100%|██████████| 42.0/42.0 [00:00<00:00, 161kB/s]\n",
      "Downloading (…)olve/main/source.spm: 100%|██████████| 797k/797k [00:00<00:00, 1.80MB/s]\n",
      "Downloading (…)olve/main/target.spm: 100%|██████████| 768k/768k [00:00<00:00, 37.0MB/s]\n",
      "Downloading (…)olve/main/vocab.json: 100%|██████████| 1.27M/1.27M [00:00<00:00, 2.33MB/s]\n"
     ]
    }
   ],
   "source": [
    "import nlpaug.augmenter.word as naw\n",
    "back_translation_aug_de = naw.BackTranslationAug(\n",
    "    from_model_name='Helsinki-NLP/opus-mt-en-de', \n",
    "    to_model_name='Helsinki-NLP/opus-mt-de-en',\n",
    "    device='cuda',\n",
    "    batch_size=16\n",
    ")"
   ]
  },
  {
   "cell_type": "code",
   "execution_count": 5,
   "metadata": {},
   "outputs": [],
   "source": [
    "# def captions_as_lists(examples):\n",
    "#     captions_as_lists = [[caption] for caption in examples[\"caption\"]]\n",
    "#     examples[\"captions\"] = captions_as_lists\n",
    "#     return examples\n",
    "\n",
    "# dataset = dataset.map(captions_as_lists, batched=True, remove_columns=[\"caption\"])"
   ]
  },
  {
   "cell_type": "code",
   "execution_count": 6,
   "metadata": {},
   "outputs": [
    {
     "data": {
      "text/plain": [
       "{'image': <PIL.JpegImagePlugin.JpegImageFile image mode=RGB size=220x275>,\n",
       " 'clip_score': 0.3412533427114651,\n",
       " 'file_name': 'jamie-wyeth_pumpkinhead-self-portrait-1972.jpg',\n",
       " 'captions': ['The artwork depicts a surreal self-portrait of the artist with a pumpkin for a head, standing in a desolated field.',\n",
       "  'The artwork depicts a surrealist self-portrait of the artist with a pumpkin for a head, standing in a sorry field.']}"
      ]
     },
     "execution_count": 6,
     "metadata": {},
     "output_type": "execute_result"
    }
   ],
   "source": [
    "dataset[\"train\"][0]"
   ]
  },
  {
   "cell_type": "code",
   "execution_count": 7,
   "metadata": {},
   "outputs": [],
   "source": [
    "def augment_captions(examples, augmenter):\n",
    "    aug_captions = augmenter.augment([captions[0].replace(\"The artwork depicts \", \"\") for captions in examples[\"captions\"]])\n",
    "    for i, captions in enumerate(examples[\"captions\"]):\n",
    "        captions.append(\"The artwork depicts \" + aug_captions[i])\n",
    "    return examples"
   ]
  },
  {
   "cell_type": "code",
   "execution_count": 8,
   "metadata": {},
   "outputs": [
    {
     "name": "stderr",
     "output_type": "stream",
     "text": [
      "                                                                     \r"
     ]
    }
   ],
   "source": [
    "# dataset = dataset.map(partial(augment_captions, augmenter=back_translation_aug_jap), batched=True)\n",
    "dataset = dataset.map(partial(augment_captions, augmenter=back_translation_aug_de), batched=True)"
   ]
  },
  {
   "cell_type": "code",
   "execution_count": 9,
   "metadata": {},
   "outputs": [
    {
     "name": "stderr",
     "output_type": "stream",
     "text": [
      "                                                                                                \r"
     ]
    }
   ],
   "source": [
    "dataset.save_to_disk(\"captioning_dataset_augmented\")"
   ]
  },
  {
   "cell_type": "code",
   "execution_count": 10,
   "metadata": {},
   "outputs": [
    {
     "data": {
      "text/plain": [
       "['The artwork depicts a woman in a red dress with a white parasol, standing in front of a blue and pink background with swirling patterns and flowers.',\n",
       " 'The artwork depicts a woman in a red dress with a white umbrella, standing in front of a blue and pink background with swirling motifs and flowers.',\n",
       " 'The artwork depicts a woman in a red dress with a white parasol standing in front of a blue and pink background with swirling patterns and flowers.']"
      ]
     },
     "execution_count": 10,
     "metadata": {},
     "output_type": "execute_result"
    }
   ],
   "source": [
    "dataset[\"train\"][55000][\"captions\"]"
   ]
  }
 ],
 "metadata": {
  "kernelspec": {
   "display_name": ".venv",
   "language": "python",
   "name": "python3"
  },
  "language_info": {
   "codemirror_mode": {
    "name": "ipython",
    "version": 3
   },
   "file_extension": ".py",
   "mimetype": "text/x-python",
   "name": "python",
   "nbconvert_exporter": "python",
   "pygments_lexer": "ipython3",
   "version": "3.10.6"
  },
  "orig_nbformat": 4
 },
 "nbformat": 4,
 "nbformat_minor": 2
}
