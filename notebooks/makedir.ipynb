{
 "cells": [
  {
   "cell_type": "code",
   "execution_count": 2,
   "metadata": {},
   "outputs": [],
   "source": [
    "import os\n",
    "from pathlib import Path\n",
    "import sys\n",
    "sys.path.append(str(Path.cwd().parent))"
   ]
  },
  {
   "cell_type": "code",
   "execution_count": 3,
   "metadata": {},
   "outputs": [],
   "source": [
    "from src.utils.dirutils import get_data_dir, get_models_dir\n",
    "import pandas as pd"
   ]
  },
  {
   "cell_type": "code",
   "execution_count": 6,
   "metadata": {},
   "outputs": [],
   "source": [
    "df = pd.read_csv(get_data_dir() / \"raw\" / \"artgraph_captions.csv\")\n",
    "df = df[df[\"human\"] == \"y\"]\n",
    "\n",
    "with open(get_data_dir() / \"raw\" / \"splits\" / \"test.txt\", \"r\") as f:\n",
    "    test_images = f.read().splitlines()\n",
    "\n",
    "test_images = set(test_images)"
   ]
  },
  {
   "cell_type": "code",
   "execution_count": 7,
   "metadata": {},
   "outputs": [],
   "source": [
    "# copy all images in df in a new folder\n",
    "from shutil import copyfile\n",
    "import json\n",
    "\n",
    "ds = []\n",
    "\n",
    "os.makedirs(\"images_human\", exist_ok=True)\n",
    "for i, row in df.iterrows():\n",
    "    if not row[\"image\"] in test_images:\n",
    "        continue\n",
    "    image_path = get_data_dir() / \"raw\" / \"images\" / row[\"image\"]\n",
    "    new_image_path = f\"images_human/{row['image']}\"\n",
    "    d = {\n",
    "        \"image\": row[\"image\"],\n",
    "        \"caption\": \"\"\n",
    "    }\n",
    "    copyfile(image_path, new_image_path)\n",
    "\n",
    "    ds.append(d)\n",
    "\n",
    "with open(\"images_human/captions_human_open_flamingo.json\", \"w\") as f:\n",
    "    json.dump(ds, f, indent=4)"
   ]
  },
  {
   "cell_type": "code",
   "execution_count": 8,
   "metadata": {},
   "outputs": [],
   "source": [
    "# from df take images that are not in test.txt\n",
    "df = df[~df[\"image\"].isin(test_images)]"
   ]
  },
  {
   "cell_type": "code",
   "execution_count": 15,
   "metadata": {},
   "outputs": [
    {
     "data": {
      "text/plain": [
       "('The artwork depicts a dramatic seascape with waves crashing against a ship in the distance in the stormy sea.',\n",
       " 'ivan-aivazovsky_shipwreck-1854.jpg')"
      ]
     },
     "execution_count": 15,
     "metadata": {},
     "output_type": "execute_result"
    }
   ],
   "source": [
    "df.iloc[25][\"caption\"], df.iloc[25][\"image\"]"
   ]
  },
  {
   "cell_type": "code",
   "execution_count": 16,
   "metadata": {},
   "outputs": [],
   "source": [
    "# order elements in images_human/captions_human_open_flamingo.json alphabetically\n",
    "with open(\"images_human/captions_human_open_flamingo.json\", \"r\") as f:\n",
    "    ds = json.load(f)\n",
    "\n",
    "ds = sorted(ds, key=lambda x: x[\"image\"])\n",
    "\n",
    "with open(\"images_human/captions_human_open_flamingo.json\", \"w\") as f:\n",
    "    json.dump(ds, f, indent=4)"
   ]
  }
 ],
 "metadata": {
  "kernelspec": {
   "display_name": ".venv",
   "language": "python",
   "name": "python3"
  },
  "language_info": {
   "codemirror_mode": {
    "name": "ipython",
    "version": 3
   },
   "file_extension": ".py",
   "mimetype": "text/x-python",
   "name": "python",
   "nbconvert_exporter": "python",
   "pygments_lexer": "ipython3",
   "version": "3.10.6"
  },
  "orig_nbformat": 4
 },
 "nbformat": 4,
 "nbformat_minor": 2
}
