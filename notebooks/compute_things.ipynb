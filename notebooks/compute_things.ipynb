{
 "cells": [
  {
   "cell_type": "code",
   "execution_count": 12,
   "metadata": {},
   "outputs": [],
   "source": [
    "a = {\n",
    "    \"antoine-blanchard_rue-tronchet-la-madeleine-3.jpg\": \"a street scene in front of the capitol building in washington d. c.\",\n",
    "    \"gerard-david_the-lamentation.jpg\": \"death by painting artist depicting the death of builder\",\n",
    "    \"pablo-picasso_harlequin-1918.jpg\": \"a woman with a guitar in her hair and a hat\",\n",
    "    \"jose-gutierrez-solana_masks.jpg\": \"a street scene in the city of rome, italy. the building in front is the house of the artist.\"\n",
    "}\n",
    "b = {\n",
    "    \"antoine-blanchard_rue-tronchet-la-madeleine-3.jpg\": \"a street scene in Paris, with people and buildings in the background\",\n",
    "    \"pablo-picasso_harlequin-1918.jpg\": \"a self-portrait of a man with a serious expression, wearing a hat and holding a guitar in his hand\",\n",
    "    \"gerard-david_the-lamentation.jpg\": \"the Virgin Mary and the child Jesus, surrounded by a group of people and trees, with a landscape in the background\",\n",
    "    \"jose-gutierrez-solana_masks.jpg\": \"a painting of a group of musicians playing music in a street with buildings and buildings in the background\"\n",
    "}"
   ]
  },
  {
   "cell_type": "code",
   "execution_count": 13,
   "metadata": {},
   "outputs": [],
   "source": [
    "from joblib import load\n",
    "from pathlib import Path\n",
    "\n",
    "embeddings_d = load(Path.cwd().parent / \"data\" / \"interim\" / \"clip\" / \"dataset_embeddings.joblib\")"
   ]
  },
  {
   "cell_type": "code",
   "execution_count": 15,
   "metadata": {},
   "outputs": [
    {
     "name": "stdout",
     "output_type": "stream",
     "text": [
      "antoine-blanchard_rue-tronchet-la-madeleine-3.jpg [[0.28018884]]\n",
      "gerard-david_the-lamentation.jpg [[0.30353805]]\n",
      "pablo-picasso_harlequin-1918.jpg [[0.2824689]]\n",
      "jose-gutierrez-solana_masks.jpg [[0.21232593]]\n"
     ]
    }
   ],
   "source": [
    "# import cosine similarity\n",
    "from sklearn.metrics.pairwise import cosine_similarity\n",
    "\n",
    "for key in a.keys():\n",
    "    # compute cosine similarity of embeddings_d[key][img_embedding] and caption_embedding\n",
    "    print(key, cosine_similarity([embeddings_d[key][\"img_embedding\"]], [embeddings_d[key][\"caption_embedding\"]]))"
   ]
  },
  {
   "cell_type": "code",
   "execution_count": 19,
   "metadata": {},
   "outputs": [
    {
     "name": "stdout",
     "output_type": "stream",
     "text": [
      "antoine-blanchard_rue-tronchet-la-madeleine-3.jpg [[0.25668371]]\n",
      "gerard-david_the-lamentation.jpg [[0.24726364]]\n",
      "pablo-picasso_harlequin-1918.jpg [[0.24349122]]\n",
      "jose-gutierrez-solana_masks.jpg [[0.23988438]]\n"
     ]
    }
   ],
   "source": [
    "from transformers import CLIPProcessor, CLIPModel\n",
    "\n",
    "processor = CLIPProcessor.from_pretrained(\"openai/clip-vit-base-patch32\")\n",
    "model = CLIPModel.from_pretrained(\"openai/clip-vit-base-patch32\")\n",
    "for k, v in a.items():\n",
    "    # take clip embedding of v\n",
    "    # compute cosine similarity of embeddings_d[key][img_embedding] and clip_embedding\n",
    "    inputs = processor(text=v, images=None, return_tensors=\"pt\", padding=True)\n",
    "    embedding = model.get_text_features(**inputs)\n",
    "    print(k, cosine_similarity([embeddings_d[k][\"img_embedding\"]], embedding.detach().numpy()))\n"
   ]
  }
 ],
 "metadata": {
  "kernelspec": {
   "display_name": ".venv",
   "language": "python",
   "name": "python3"
  },
  "language_info": {
   "codemirror_mode": {
    "name": "ipython",
    "version": 3
   },
   "file_extension": ".py",
   "mimetype": "text/x-python",
   "name": "python",
   "nbconvert_exporter": "python",
   "pygments_lexer": "ipython3",
   "version": "3.10.6"
  },
  "orig_nbformat": 4
 },
 "nbformat": 4,
 "nbformat_minor": 2
}
