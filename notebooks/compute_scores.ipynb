{
 "cells": [
  {
   "cell_type": "code",
   "execution_count": 1,
   "metadata": {},
   "outputs": [],
   "source": [
    "d_of = {\n",
    "    \"koloman-moser_picture-book-for-the-niece-of-ditha-mautner-von-markhof-1904-10.jpg\": \"a Neo-Palaeolithic sculpture of a horse\",\n",
    "    \"john-atkinson-grimshaw_under-the-moonbeams-knostrop-hall.jpg\": \"a man walking home in the rain at night\",\n",
    "    \"rene-magritte_the-beautiful-relations-1967.jpg\": \"a man with a balloon on his head\",\n",
    "    \"giovanni-battista-piranesi_meander-to-the-floor-in-mosaic-found-in-the-country-house.jpg\": \"a black and white chessboard\", \n",
    "    \"francesco-hayez_the-kiss-1859.jpg\": \"a man kissing a woman on the cheek\", \n",
    "    \"andrea-solario_virgin-and-child.jpg\": \"painting of the Madonna and Child\",\n",
    "    \"paul-jacoulet_les-petits-voleurs-gauche-johokuri-coree-1959.jpg\": \"a man in a red robe sitting under a tree\",\n",
    "    \"philip-guston_painter-in-bed-1973.jpg\": \"a still life painting of a bowl of fruit\",\n",
    "    \"simeon-solomon_king-solomon-1874.jpg\": \"a man wearing a crown and holding a scepter\",\n",
    "    \"lucian-freud_queen-elizabeth-ii-2001.jpg\": \"a portrait of Queen Elizabeth II\",\n",
    "    \"camille-corot_venice-gondola-on-grand-canal.jpg\": \"a painting of a gondola on the Grand Canal in Venice\",  \n",
    "    \"nasreen-mohamedi_untitled-1970-1.jpg\": \"a grid of black and white photographs\",\n",
    "    \"antoine-blanchard_rue-tronchet-la-madeleine.jpg\": \"a painting of a street scene in Paris\",\n",
    "    \"pablo-picasso_harlequin-1918.jpg\": \"Pablo Picasso's Guitar and Glass, 1913\",\n",
    "    \"jose-gutierrez-solana_masks.jpg\": \"a group of people dancing in the street\",\n",
    "    \"gerard-david_the-lamentation.jpg\": \"a painting of Jesus carrying the cross\",\n",
    "}"
   ]
  },
  {
   "cell_type": "code",
   "execution_count": 23,
   "metadata": {},
   "outputs": [],
   "source": [
    "d_ours = {\n",
    "    \"koloman-moser_picture-book-for-the-niece-of-ditha-mautner-von-markhof-1904-10.jpg\": \"a dog and a cat in a cage, with various symbols and symbols on a white background\",\n",
    "    \"john-atkinson-grimshaw_under-the-moonbeams-knostrop-hall.jpg\": \"the moon rising over a city at night, with trees and buildings in the background\",\n",
    "    \"rene-magritte_the-beautiful-relations-1967.jpg\": \"a surreal and surreal scene with a human face and a red and white balloon floating in the air\",\n",
    "    \"giovanni-battista-piranesi_meander-to-the-floor-in-mosaic-found-in-the-country-house.jpg\": \"a design with Geometric shapes and lines in black and white\", \n",
    "    \"francesco-hayez_the-kiss-1859.jpg\": \"a woman holding a gun and a man standing in front of her\", \n",
    "    \"andrea-solario_virgin-and-child.jpg\": \"the Virgin Mary holding the baby Jesus, with the child Jesus standing in front of her\",\n",
    "    \"paul-jacoulet_les-petits-voleurs-gauche-johokuri-coree-1959.jpg\": \"a man with traditional clothes and a hat, with a mountain range in the background\",\n",
    "    \"philip-guston_painter-in-bed-1973.jpg\": \"the artist's studio, with various objects and objects placed on a table\",\n",
    "    \"simeon-solomon_king-solomon-1874.jpg\": \"the Virgin Mary, holding a cross and looking at the viewer, with a serious expression on his face\",\n",
    "    \"lucian-freud_queen-elizabeth-ii-2001.jpg\": \"a portrait of Queen Elizabeth Elizabeth, wearing a Tiara and a crown, with a serious expression on her face\",\n",
    "    \"camille-corot_venice-gondola-on-grand-canal.jpg\": \"a view of the grand Canal in Venice, with boats and buildings in the background\",  \n",
    "    \"nasreen-mohamedi_untitled-1970-1.jpg\": \"a series of abstract shapes and lines in black and white\",\n",
    "}"
   ]
  },
  {
   "cell_type": "code",
   "execution_count": 24,
   "metadata": {},
   "outputs": [],
   "source": [
    "d_base = {\n",
    "    \"koloman-moser_picture-book-for-the-niece-of-ditha-mautner-von-markhof-1904-10.jpg\": \"a painting of a dog and a cat in a book i made\",\n",
    "    \"john-atkinson-grimshaw_under-the-moonbeams-knostrop-hall.jpg\": \"the moon rising over a stone wall in the middle of the woods\",\n",
    "    \"rene-magritte_the-beautiful-relations-1967.jpg\": \"a hot air balloon and a cloud in the sky\",\n",
    "    \"giovanni-battista-piranesi_meander-to-the-floor-in-mosaic-found-in-the-country-house.jpg\": \"from the book: the black and white version of the pattern in the middle\", \n",
    "    \"francesco-hayez_the-kiss-1859.jpg\": \"a girl in a blue dress with a gun\", \n",
    "    \"andrea-solario_virgin-and-child.jpg\": \"mother and child in a box with a green curtain\",\n",
    "    \"paul-jacoulet_les-petits-voleurs-gauche-johokuri-coree-1959.jpg\": \"a man with a fish in his mouth, with mountains in the background\",\n",
    "    \"philip-guston_painter-in-bed-1973.jpg\": \"painting artist on the wall of a house in san diego, ca.\",\n",
    "    \"simeon-solomon_king-solomon-1874.jpg\": \"by painting artist of jesus in blue and blue with a cross\",\n",
    "    \"lucian-freud_queen-elizabeth-ii-2001.jpg\": \"by painting artist of the queen's mother\",\n",
    "    \"camille-corot_venice-gondola-on-grand-canal.jpg\": \"a boat on the water in venice, italy\",  \n",
    "    \"nasreen-mohamedi_untitled-1970-1.jpg\": \"the floor of a building in the middle of the street\",\n",
    "}"
   ]
  },
  {
   "cell_type": "code",
   "execution_count": 2,
   "metadata": {},
   "outputs": [],
   "source": [
    "from joblib import load\n",
    "from pathlib import Path\n",
    "\n",
    "DATA_DIR = Path.cwd().parent / \"data\"\n",
    "embeddings_d = load(DATA_DIR / \"interim\" / \"clip\" / \"dataset_embeddings.joblib\")"
   ]
  },
  {
   "cell_type": "code",
   "execution_count": 3,
   "metadata": {},
   "outputs": [
    {
     "name": "stderr",
     "output_type": "stream",
     "text": [
      "/home/nico/Thesis/neural-artwork-caption-generator/.venv/lib/python3.10/site-packages/tqdm/auto.py:21: TqdmWarning: IProgress not found. Please update jupyter and ipywidgets. See https://ipywidgets.readthedocs.io/en/stable/user_install.html\n",
      "  from .autonotebook import tqdm as notebook_tqdm\n"
     ]
    }
   ],
   "source": [
    "from transformers import CLIPProcessor, CLIPModel\n",
    "from sklearn.metrics.pairwise import cosine_similarity\n",
    "\n",
    "model = CLIPModel.from_pretrained(\"openai/clip-vit-base-patch32\")\n",
    "processor = CLIPProcessor.from_pretrained(\"openai/clip-vit-base-patch32\")"
   ]
  },
  {
   "cell_type": "code",
   "execution_count": 27,
   "metadata": {},
   "outputs": [
    {
     "name": "stdout",
     "output_type": "stream",
     "text": [
      "koloman-moser_picture-book-for-the-niece-of-ditha-mautner-von-markhof-1904-10.jpg 0.21520411366685469\n",
      "john-atkinson-grimshaw_under-the-moonbeams-knostrop-hall.jpg 0.2279592419478667\n",
      "rene-magritte_the-beautiful-relations-1967.jpg 0.3238768529666034\n",
      "giovanni-battista-piranesi_meander-to-the-floor-in-mosaic-found-in-the-country-house.jpg 0.30701590408708457\n",
      "francesco-hayez_the-kiss-1859.jpg 0.23688005288505054\n",
      "andrea-solario_virgin-and-child.jpg 0.2900926704841605\n",
      "paul-jacoulet_les-petits-voleurs-gauche-johokuri-coree-1959.jpg 0.3340367474166623\n",
      "philip-guston_painter-in-bed-1973.jpg 0.2357983622553765\n",
      "simeon-solomon_king-solomon-1874.jpg 0.28245029585845166\n",
      "lucian-freud_queen-elizabeth-ii-2001.jpg 0.32394695378198\n",
      "camille-corot_venice-gondola-on-grand-canal.jpg 0.31714031683710253\n",
      "nasreen-mohamedi_untitled-1970-1.jpg 0.2636048565145299\n"
     ]
    }
   ],
   "source": [
    "for img, cap in d_ours.items():\n",
    "    processed_cap = processor(text=cap, images=None, return_tensors=\"pt\", padding=True)\n",
    "    text_embedding = model.get_text_features(**processed_cap)\n",
    "    # remove the batch dimension\n",
    "    text_embedding = text_embedding.squeeze(0)\n",
    "    img_embedding = embeddings_d[img][\"img_embedding\"]\n",
    "    similarity = cosine_similarity([text_embedding.detach().numpy()], [img_embedding])[0][0]\n",
    "    print(img, similarity)"
   ]
  },
  {
   "cell_type": "code",
   "execution_count": 4,
   "metadata": {},
   "outputs": [
    {
     "name": "stdout",
     "output_type": "stream",
     "text": [
      "koloman-moser_picture-book-for-the-niece-of-ditha-mautner-von-markhof-1904-10.jpg 0.24503241710458237\n",
      "john-atkinson-grimshaw_under-the-moonbeams-knostrop-hall.jpg 0.2603024827395619\n",
      "rene-magritte_the-beautiful-relations-1967.jpg 0.2505014428507682\n",
      "giovanni-battista-piranesi_meander-to-the-floor-in-mosaic-found-in-the-country-house.jpg 0.30566990549357875\n",
      "francesco-hayez_the-kiss-1859.jpg 0.28173449069374\n",
      "andrea-solario_virgin-and-child.jpg 0.3140764490750442\n",
      "paul-jacoulet_les-petits-voleurs-gauche-johokuri-coree-1959.jpg 0.2863556322844339\n",
      "philip-guston_painter-in-bed-1973.jpg 0.2421279978538935\n",
      "simeon-solomon_king-solomon-1874.jpg 0.2776576753154453\n",
      "lucian-freud_queen-elizabeth-ii-2001.jpg 0.34506202120372287\n",
      "camille-corot_venice-gondola-on-grand-canal.jpg 0.3484046475456219\n",
      "nasreen-mohamedi_untitled-1970-1.jpg 0.24285788365751587\n",
      "antoine-blanchard_rue-tronchet-la-madeleine.jpg 0.3165243092469429\n",
      "pablo-picasso_harlequin-1918.jpg 0.29756689127667185\n",
      "jose-gutierrez-solana_masks.jpg 0.272235513399091\n",
      "gerard-david_the-lamentation.jpg 0.28150396318727866\n"
     ]
    }
   ],
   "source": [
    "for img, cap in d_of.items():\n",
    "    processed_cap = processor(text=cap, images=None, return_tensors=\"pt\", padding=True)\n",
    "    text_embedding = model.get_text_features(**processed_cap)\n",
    "    # remove the batch dimension\n",
    "    text_embedding = text_embedding.squeeze(0)\n",
    "    img_embedding = embeddings_d[img][\"img_embedding\"]\n",
    "    similarity = cosine_similarity([text_embedding.detach().numpy()], [img_embedding])[0][0]\n",
    "    print(img, similarity)"
   ]
  },
  {
   "cell_type": "code",
   "execution_count": 29,
   "metadata": {},
   "outputs": [
    {
     "name": "stdout",
     "output_type": "stream",
     "text": [
      "koloman-moser_picture-book-for-the-niece-of-ditha-mautner-von-markhof-1904-10.jpg 0.21653837839512502\n",
      "john-atkinson-grimshaw_under-the-moonbeams-knostrop-hall.jpg 0.22764835029453925\n",
      "rene-magritte_the-beautiful-relations-1967.jpg 0.2805486496771056\n",
      "giovanni-battista-piranesi_meander-to-the-floor-in-mosaic-found-in-the-country-house.jpg 0.3403125705593367\n",
      "francesco-hayez_the-kiss-1859.jpg 0.23770872689769929\n",
      "andrea-solario_virgin-and-child.jpg 0.27438491435965523\n",
      "paul-jacoulet_les-petits-voleurs-gauche-johokuri-coree-1959.jpg 0.30144976481798225\n",
      "philip-guston_painter-in-bed-1973.jpg 0.18056484345407595\n",
      "simeon-solomon_king-solomon-1874.jpg 0.29354773762822883\n",
      "lucian-freud_queen-elizabeth-ii-2001.jpg 0.321051343731316\n",
      "camille-corot_venice-gondola-on-grand-canal.jpg 0.26033957789586865\n",
      "nasreen-mohamedi_untitled-1970-1.jpg 0.23036456583471776\n"
     ]
    }
   ],
   "source": [
    "for img, cap in d_base.items():\n",
    "    processed_cap = processor(text=cap, images=None, return_tensors=\"pt\", padding=True)\n",
    "    text_embedding = model.get_text_features(**processed_cap)\n",
    "    # remove the batch dimension\n",
    "    text_embedding = text_embedding.squeeze(0)\n",
    "    img_embedding = embeddings_d[img][\"img_embedding\"]\n",
    "    similarity = cosine_similarity([text_embedding.detach().numpy()], [img_embedding])[0][0]\n",
    "    print(img, similarity)"
   ]
  }
 ],
 "metadata": {
  "kernelspec": {
   "display_name": ".venv",
   "language": "python",
   "name": "python3"
  },
  "language_info": {
   "codemirror_mode": {
    "name": "ipython",
    "version": 3
   },
   "file_extension": ".py",
   "mimetype": "text/x-python",
   "name": "python",
   "nbconvert_exporter": "python",
   "pygments_lexer": "ipython3",
   "version": "3.10.6"
  },
  "orig_nbformat": 4
 },
 "nbformat": 4,
 "nbformat_minor": 2
}
