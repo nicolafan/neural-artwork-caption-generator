{
 "cells": [
  {
   "cell_type": "code",
   "execution_count": 10,
   "metadata": {},
   "outputs": [],
   "source": [
    "import requests\n",
    "import os\n",
    "from pathlib import Path"
   ]
  },
  {
   "cell_type": "code",
   "execution_count": 20,
   "metadata": {},
   "outputs": [],
   "source": [
    "PROJECT_DIR = Path(os.getcwd()).resolve().parent\n",
    "DATA_DIR = PROJECT_DIR / \"data\"\n",
    "RAW_DATA_DR = DATA_DIR / \"raw\""
   ]
  },
  {
   "cell_type": "code",
   "execution_count": 12,
   "metadata": {},
   "outputs": [],
   "source": [
    "url = \"https://www.wikiart.org/en/api/2/MostViewedPaintings\""
   ]
  },
  {
   "cell_type": "code",
   "execution_count": 16,
   "metadata": {},
   "outputs": [],
   "source": [
    "r = requests.get(url)\n",
    "data = r.json()[\"data\"]\n",
    "while len(data) < 12000:\n",
    "    pagination_token = r.json()[\"paginationToken\"]\n",
    "    pag_url = url + f\"?paginationToken={pagination_token}\"\n",
    "    r = requests.get(pag_url)\n",
    "    data += r.json()[\"data\"]\n"
   ]
  },
  {
   "cell_type": "code",
   "execution_count": 18,
   "metadata": {},
   "outputs": [],
   "source": [
    "import json"
   ]
  },
  {
   "cell_type": "code",
   "execution_count": 21,
   "metadata": {},
   "outputs": [],
   "source": [
    "with open(RAW_DATA_DR / \"most_viewed_paintings.jsonl\", \"w\") as f:\n",
    "    j = json.dumps(data, indent=4)\n",
    "    f.write(j)"
   ]
  }
 ],
 "metadata": {
  "kernelspec": {
   "display_name": ".venv",
   "language": "python",
   "name": "python3"
  },
  "language_info": {
   "codemirror_mode": {
    "name": "ipython",
    "version": 3
   },
   "file_extension": ".py",
   "mimetype": "text/x-python",
   "name": "python",
   "nbconvert_exporter": "python",
   "pygments_lexer": "ipython3",
   "version": "3.10.6"
  },
  "orig_nbformat": 4
 },
 "nbformat": 4,
 "nbformat_minor": 2
}
