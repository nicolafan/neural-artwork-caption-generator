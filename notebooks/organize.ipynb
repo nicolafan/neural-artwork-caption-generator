{
 "cells": [
  {
   "cell_type": "code",
   "execution_count": 1,
   "metadata": {},
   "outputs": [],
   "source": [
    "from pathlib import Path\n",
    "import os\n",
    "import sys\n",
    "sys.path.append(str(Path.cwd().parent))"
   ]
  },
  {
   "cell_type": "code",
   "execution_count": 6,
   "metadata": {},
   "outputs": [],
   "source": [
    "from src.utils.dirutils import get_models_dir, get_data_dir\n",
    "from datasets import load_from_disk\n",
    "import json"
   ]
  },
  {
   "cell_type": "code",
   "execution_count": 5,
   "metadata": {},
   "outputs": [
    {
     "data": {
      "text/plain": [
       "Dataset({\n",
       "    features: ['image', 'clip_score', 'file_name', 'captions'],\n",
       "    num_rows: 17385\n",
       "})"
      ]
     },
     "execution_count": 5,
     "metadata": {},
     "output_type": "execute_result"
    }
   ],
   "source": [
    "dataset = load_from_disk(get_data_dir() / \"processed\" / \"captioning_dataset_augmented_processed\")[\"test\"]\n",
    "dataset"
   ]
  },
  {
   "cell_type": "code",
   "execution_count": 12,
   "metadata": {},
   "outputs": [],
   "source": [
    "model_names = (\"blip-2\", \"microsoft-git-base\", \"microsoft-git-base-no-weights\", \"microsoft-git-base-frozen\", \"microsoft-git-base-good-samples\")\n",
    "for model_name in model_names:\n",
    "    with open(get_models_dir() / \"captioning\" / model_name / \"test_outputs.jsonl\", \"r\") as f:\n",
    "        outputs = json.load(f)\n",
    "    outputs_flat = []\n",
    "    for output in outputs:\n",
    "        outputs_flat += output[\"caption\"]\n",
    "    \n",
    "    keyed_outputs = {}\n",
    "    for i, example in enumerate(dataset):\n",
    "        if i >= len(outputs_flat):\n",
    "            break\n",
    "        keyed_outputs[example[\"file_name\"]] = outputs_flat[i]\n",
    "\n",
    "    with open(get_models_dir() / \"captioning\" / model_name / \"test_outputs_flat.json\", \"w\") as f:\n",
    "        json.dump(keyed_outputs, f)"
   ]
  },
  {
   "cell_type": "code",
   "execution_count": 13,
   "metadata": {},
   "outputs": [
    {
     "data": {
      "text/plain": [
       "Dataset({\n",
       "    features: ['image', 'clip_score', 'file_name', 'captions'],\n",
       "    num_rows: 17696\n",
       "})"
      ]
     },
     "execution_count": 13,
     "metadata": {},
     "output_type": "execute_result"
    }
   ],
   "source": [
    "dataset2 = load_from_disk(get_data_dir() / \"processed\" / \"captioning_dataset_augmented\")[\"test\"]\n",
    "dataset2"
   ]
  }
 ],
 "metadata": {
  "kernelspec": {
   "display_name": ".venv",
   "language": "python",
   "name": "python3"
  },
  "language_info": {
   "codemirror_mode": {
    "name": "ipython",
    "version": 3
   },
   "file_extension": ".py",
   "mimetype": "text/x-python",
   "name": "python",
   "nbconvert_exporter": "python",
   "pygments_lexer": "ipython3",
   "version": "3.10.6"
  },
  "orig_nbformat": 4
 },
 "nbformat": 4,
 "nbformat_minor": 2
}
