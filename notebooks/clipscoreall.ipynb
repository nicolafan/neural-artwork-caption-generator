{
 "cells": [
  {
   "cell_type": "code",
   "execution_count": 1,
   "metadata": {},
   "outputs": [
    {
     "name": "stderr",
     "output_type": "stream",
     "text": [
      "/home/nico/Thesis/neural-artwork-caption-generator/.venv/lib/python3.10/site-packages/tqdm/auto.py:21: TqdmWarning: IProgress not found. Please update jupyter and ipywidgets. See https://ipywidgets.readthedocs.io/en/stable/user_install.html\n",
      "  from .autonotebook import tqdm as notebook_tqdm\n"
     ]
    }
   ],
   "source": [
    "from pathlib import Path\n",
    "import os\n",
    "from joblib import load\n",
    "import sys\n",
    "from datasets import load_from_disk\n",
    "from sklearn.metrics.pairwise import cosine_similarity\n",
    "import json\n",
    "from transformers import CLIPProcessor, CLIPModel\n",
    "import torch\n",
    "from tqdm import tqdm"
   ]
  },
  {
   "cell_type": "code",
   "execution_count": 2,
   "metadata": {},
   "outputs": [],
   "source": [
    "sys.path.append(str(Path.cwd().parent))\n",
    "from src.utils.dirutils import get_data_dir, get_models_dir"
   ]
  },
  {
   "cell_type": "code",
   "execution_count": 3,
   "metadata": {},
   "outputs": [],
   "source": [
    "gt_embeddings = load(get_data_dir() / \"interim\" / \"clip\" / \"dataset_embeddings.joblib\")"
   ]
  },
  {
   "cell_type": "code",
   "execution_count": 4,
   "metadata": {},
   "outputs": [],
   "source": [
    "dataset = load_from_disk(get_data_dir() / \"processed\" / \"captioning_dataset_augmented\")[\"test\"]"
   ]
  },
  {
   "cell_type": "code",
   "execution_count": 5,
   "metadata": {},
   "outputs": [],
   "source": [
    "test_set_filenames = set([example[\"file_name\"] for example in dataset])"
   ]
  },
  {
   "cell_type": "code",
   "execution_count": 6,
   "metadata": {},
   "outputs": [],
   "source": [
    "gt_embeddings = {k: v for k, v in gt_embeddings.items() if k in test_set_filenames}"
   ]
  },
  {
   "cell_type": "code",
   "execution_count": 7,
   "metadata": {},
   "outputs": [
    {
     "name": "stdout",
     "output_type": "stream",
     "text": [
      "0.25814173782307703\n"
     ]
    }
   ],
   "source": [
    "tot_score = 0.0\n",
    "for _, embeddings in gt_embeddings.items():\n",
    "    tot_score += cosine_similarity(\n",
    "        [embeddings[\"img_embedding\"]], [embeddings[\"caption_embedding\"]]\n",
    "    )[0][0]\n",
    "avg_score = tot_score / len(gt_embeddings)\n",
    "print(avg_score)"
   ]
  },
  {
   "cell_type": "code",
   "execution_count": 8,
   "metadata": {},
   "outputs": [],
   "source": [
    "model_names = (\"microsoft-git-base-good-samples\",)\n",
    "outputs = {}\n",
    "\n",
    "for model_name in model_names:\n",
    "    with open(get_models_dir() / \"captioning\" / model_name / \"test_outputs_flat.json\") as f:\n",
    "        outputs[model_name] = json.load(f)      "
   ]
  },
  {
   "cell_type": "code",
   "execution_count": 9,
   "metadata": {},
   "outputs": [
    {
     "name": "stderr",
     "output_type": "stream",
     "text": [
      "100%|██████████| 17696/17696 [11:22<00:00, 25.92it/s]\n"
     ]
    }
   ],
   "source": [
    "processor = CLIPProcessor.from_pretrained(\"openai/clip-vit-base-patch32\")\n",
    "clip = CLIPModel.from_pretrained(\"openai/clip-vit-base-patch32\")\n",
    "clip.train(False)\n",
    "avg_scores = {\n",
    "    'blip-2': 0.28124519233363415,\n",
    "    'microsoft-git-base': 0.2693781059735237,\n",
    "    'microsoft-git-base-good-samples': 0.2787208376248433,\n",
    "    'microsoft-git-base-no-weights': 0.2661253812732238,\n",
    "    'microsoft-git-base-frozen': 0.26104122709153155\n",
    "}\n",
    "for model_name in model_names:\n",
    "    tot_score = 0.0\n",
    "    idx = 0\n",
    "    x = 0\n",
    "    for key, value in tqdm(outputs[model_name].items()):\n",
    "        with torch.no_grad():\n",
    "            inputs = processor(\n",
    "                text=[value], images=None, return_tensors=\"pt\", padding=True\n",
    "            )\n",
    "\n",
    "            text_features = clip.get_text_features(**inputs).detach().numpy()\n",
    "            embedding = text_features[0]\n",
    "            tot_score += cosine_similarity(\n",
    "                [embedding], [gt_embeddings[key][\"img_embedding\"]]\n",
    "            )[0][0]\n",
    "            x += 1\n",
    "    avg_score = tot_score / x\n",
    "    avg_scores[model_name] = avg_score"
   ]
  },
  {
   "cell_type": "code",
   "execution_count": 11,
   "metadata": {},
   "outputs": [
    {
     "data": {
      "text/plain": [
       "{'blip-2': 0.28124519233363415,\n",
       " 'microsoft-git-base': 0.2693781059735237,\n",
       " 'microsoft-git-base-good-samples': 0.2787208376248433,\n",
       " 'microsoft-git-base-no-weights': 0.2661253812732238,\n",
       " 'microsoft-git-base-frozen': 0.26104122709153155}"
      ]
     },
     "execution_count": 11,
     "metadata": {},
     "output_type": "execute_result"
    }
   ],
   "source": [
    "avg_scores"
   ]
  },
  {
   "cell_type": "code",
   "execution_count": 12,
   "metadata": {},
   "outputs": [
    {
     "data": {
      "text/plain": [
       "17696"
      ]
     },
     "execution_count": 12,
     "metadata": {},
     "output_type": "execute_result"
    }
   ],
   "source": [
    "len(gt_embeddings)"
   ]
  }
 ],
 "metadata": {
  "kernelspec": {
   "display_name": ".venv",
   "language": "python",
   "name": "python3"
  },
  "language_info": {
   "codemirror_mode": {
    "name": "ipython",
    "version": 3
   },
   "file_extension": ".py",
   "mimetype": "text/x-python",
   "name": "python",
   "nbconvert_exporter": "python",
   "pygments_lexer": "ipython3",
   "version": "3.10.6"
  },
  "orig_nbformat": 4
 },
 "nbformat": 4,
 "nbformat_minor": 2
}
